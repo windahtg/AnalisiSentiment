{
  "nbformat": 4,
  "nbformat_minor": 0,
  "metadata": {
    "colab": {
      "provenance": []
    },
    "kernelspec": {
      "name": "python3",
      "display_name": "Python 3"
    },
    "language_info": {
      "name": "python"
    }
  },
  "cells": [
    {
      "cell_type": "code",
      "execution_count": null,
      "metadata": {
        "id": "cQUv6GoCCVkO"
      },
      "outputs": [],
      "source": [
        "import pandas as pd\n",
        "import numpy as np\n",
        "\n",
        "import matplotlib.pyplot as plt\n",
        "import seaborn as sns"
      ]
    },
    {
      "cell_type": "code",
      "source": [
        "df = pd.read_csv('sentimentdataset.csv')"
      ],
      "metadata": {
        "id": "wgsNystL5Pfd"
      },
      "execution_count": null,
      "outputs": []
    },
    {
      "cell_type": "code",
      "source": [
        "import nltk\n",
        "from nltk.corpus import stopwords\n",
        "from nltk.stem import PorterStemmer\n",
        "from sklearn.feature_extraction.text import ENGLISH_STOP_WORDS"
      ],
      "metadata": {
        "id": "qLiIkq0F7AIp"
      },
      "execution_count": null,
      "outputs": []
    },
    {
      "cell_type": "code",
      "source": [
        "nltk.download('punkt')\n",
        "nltk.download('stopwords')"
      ],
      "metadata": {
        "colab": {
          "base_uri": "https://localhost:8080/"
        },
        "id": "XqcxYNeo7Dj8",
        "outputId": "c66c90c6-a417-492e-ab34-b94db379f49a"
      },
      "execution_count": null,
      "outputs": [
        {
          "output_type": "stream",
          "name": "stderr",
          "text": [
            "[nltk_data] Downloading package punkt to /root/nltk_data...\n",
            "[nltk_data]   Unzipping tokenizers/punkt.zip.\n",
            "[nltk_data] Downloading package stopwords to /root/nltk_data...\n",
            "[nltk_data]   Unzipping corpora/stopwords.zip.\n"
          ]
        },
        {
          "output_type": "execute_result",
          "data": {
            "text/plain": [
              "True"
            ]
          },
          "metadata": {},
          "execution_count": 4
        }
      ]
    },
    {
      "cell_type": "code",
      "source": [
        "def process_text(text):\n",
        "    # Tokenization\n",
        "    tokens = nltk.word_tokenize(text)\n",
        "\n",
        "    # Remove stop words\n",
        "    stop_words = set(stopwords.words('english')) | ENGLISH_STOP_WORDS\n",
        "    tokens = [word for word in tokens if word.lower() not in stop_words]\n",
        "\n",
        "    # Stemming\n",
        "    stemmer = PorterStemmer()\n",
        "    tokens = [stemmer.stem(word) for word in tokens]\n",
        "\n",
        "    # Join tokens back into a string\n",
        "    processed_text = ' '.join(tokens)\n",
        "\n",
        "    return processed_text"
      ],
      "metadata": {
        "id": "Oi9M4sna7KRb"
      },
      "execution_count": null,
      "outputs": []
    },
    {
      "cell_type": "code",
      "source": [
        "df['processed_text'] = df['Text'].apply(process_text)\n",
        "print(df[['Text', 'processed_text']].head())"
      ],
      "metadata": {
        "id": "MZFnAxbK71hJ",
        "colab": {
          "base_uri": "https://localhost:8080/"
        },
        "outputId": "448a7aee-36da-425b-dc3f-c8d5d3c712e1"
      },
      "execution_count": null,
      "outputs": [
        {
          "output_type": "stream",
          "name": "stdout",
          "text": [
            "                                                Text  \\\n",
            "0   Enjoying a beautiful day at the park!        ...   \n",
            "1   Traffic was terrible this morning.           ...   \n",
            "2   Just finished an amazing workout! 💪          ...   \n",
            "3   Excited about the upcoming weekend getaway!  ...   \n",
            "4   Trying out a new recipe for dinner tonight.  ...   \n",
            "\n",
            "                   processed_text  \n",
            "0         enjoy beauti day park !  \n",
            "1          traffic terribl morn .  \n",
            "2         finish amaz workout ! 💪  \n",
            "3   excit upcom weekend getaway !  \n",
            "4  tri new recip dinner tonight .  \n"
          ]
        }
      ]
    },
    {
      "cell_type": "code",
      "source": [
        "from sklearn.feature_extraction.text import CountVectorizer"
      ],
      "metadata": {
        "id": "7-BJjkDZ75P_"
      },
      "execution_count": null,
      "outputs": []
    },
    {
      "cell_type": "code",
      "source": [
        "vectorizer = CountVectorizer(binary=True)\n",
        "dtm_boolean = vectorizer.fit_transform(df['processed_text'])\n",
        "dtm_boolean_df = pd.DataFrame(dtm_boolean.toarray(), columns=vectorizer.get_feature_names_out())"
      ],
      "metadata": {
        "id": "8TIton5u8Fkk"
      },
      "execution_count": null,
      "outputs": []
    },
    {
      "cell_type": "code",
      "source": [
        "from sklearn.feature_extraction.text import TfidfVectorizer\n",
        "\n",
        "tfidf_vectorizer = TfidfVectorizer(max_features=5000)\n",
        "tfidf_matrix = tfidf_vectorizer.fit_transform(df['processed_text'])\n",
        "tfidf_df = pd.DataFrame(tfidf_matrix.toarray(), columns=tfidf_vectorizer.get_feature_names_out())"
      ],
      "metadata": {
        "id": "v-LxHLkY8TRX"
      },
      "execution_count": null,
      "outputs": []
    },
    {
      "cell_type": "code",
      "source": [
        "tfidf_df.head()"
      ],
      "metadata": {
        "id": "_IMzG_p28cic",
        "colab": {
          "base_uri": "https://localhost:8080/",
          "height": 256
        },
        "outputId": "352a5080-25b0-42bc-ca20-e37089c20578"
      },
      "execution_count": null,
      "outputs": [
        {
          "output_type": "execute_result",
          "data": {
            "text/plain": [
              "   ablaz  abstract  abyss  academ  accept  accident  accomplish  ach  achiev  \\\n",
              "0    0.0       0.0    0.0     0.0     0.0       0.0         0.0  0.0     0.0   \n",
              "1    0.0       0.0    0.0     0.0     0.0       0.0         0.0  0.0     0.0   \n",
              "2    0.0       0.0    0.0     0.0     0.0       0.0         0.0  0.0     0.0   \n",
              "3    0.0       0.0    0.0     0.0     0.0       0.0         0.0  0.0     0.0   \n",
              "4    0.0       0.0    0.0     0.0     0.0       0.0         0.0  0.0     0.0   \n",
              "\n",
              "   acoust  ...  writinggroup  wrong  year  yearbook  yearn  york  young  zen  \\\n",
              "0     0.0  ...           0.0    0.0   0.0       0.0    0.0   0.0    0.0  0.0   \n",
              "1     0.0  ...           0.0    0.0   0.0       0.0    0.0   0.0    0.0  0.0   \n",
              "2     0.0  ...           0.0    0.0   0.0       0.0    0.0   0.0    0.0  0.0   \n",
              "3     0.0  ...           0.0    0.0   0.0       0.0    0.0   0.0    0.0  0.0   \n",
              "4     0.0  ...           0.0    0.0   0.0       0.0    0.0   0.0    0.0  0.0   \n",
              "\n",
              "   zero  zest  \n",
              "0   0.0   0.0  \n",
              "1   0.0   0.0  \n",
              "2   0.0   0.0  \n",
              "3   0.0   0.0  \n",
              "4   0.0   0.0  \n",
              "\n",
              "[5 rows x 1918 columns]"
            ],
            "text/html": [
              "\n",
              "  <div id=\"df-ed474cbe-35e3-4bcf-9f24-819687ee1f80\" class=\"colab-df-container\">\n",
              "    <div>\n",
              "<style scoped>\n",
              "    .dataframe tbody tr th:only-of-type {\n",
              "        vertical-align: middle;\n",
              "    }\n",
              "\n",
              "    .dataframe tbody tr th {\n",
              "        vertical-align: top;\n",
              "    }\n",
              "\n",
              "    .dataframe thead th {\n",
              "        text-align: right;\n",
              "    }\n",
              "</style>\n",
              "<table border=\"1\" class=\"dataframe\">\n",
              "  <thead>\n",
              "    <tr style=\"text-align: right;\">\n",
              "      <th></th>\n",
              "      <th>ablaz</th>\n",
              "      <th>abstract</th>\n",
              "      <th>abyss</th>\n",
              "      <th>academ</th>\n",
              "      <th>accept</th>\n",
              "      <th>accident</th>\n",
              "      <th>accomplish</th>\n",
              "      <th>ach</th>\n",
              "      <th>achiev</th>\n",
              "      <th>acoust</th>\n",
              "      <th>...</th>\n",
              "      <th>writinggroup</th>\n",
              "      <th>wrong</th>\n",
              "      <th>year</th>\n",
              "      <th>yearbook</th>\n",
              "      <th>yearn</th>\n",
              "      <th>york</th>\n",
              "      <th>young</th>\n",
              "      <th>zen</th>\n",
              "      <th>zero</th>\n",
              "      <th>zest</th>\n",
              "    </tr>\n",
              "  </thead>\n",
              "  <tbody>\n",
              "    <tr>\n",
              "      <th>0</th>\n",
              "      <td>0.0</td>\n",
              "      <td>0.0</td>\n",
              "      <td>0.0</td>\n",
              "      <td>0.0</td>\n",
              "      <td>0.0</td>\n",
              "      <td>0.0</td>\n",
              "      <td>0.0</td>\n",
              "      <td>0.0</td>\n",
              "      <td>0.0</td>\n",
              "      <td>0.0</td>\n",
              "      <td>...</td>\n",
              "      <td>0.0</td>\n",
              "      <td>0.0</td>\n",
              "      <td>0.0</td>\n",
              "      <td>0.0</td>\n",
              "      <td>0.0</td>\n",
              "      <td>0.0</td>\n",
              "      <td>0.0</td>\n",
              "      <td>0.0</td>\n",
              "      <td>0.0</td>\n",
              "      <td>0.0</td>\n",
              "    </tr>\n",
              "    <tr>\n",
              "      <th>1</th>\n",
              "      <td>0.0</td>\n",
              "      <td>0.0</td>\n",
              "      <td>0.0</td>\n",
              "      <td>0.0</td>\n",
              "      <td>0.0</td>\n",
              "      <td>0.0</td>\n",
              "      <td>0.0</td>\n",
              "      <td>0.0</td>\n",
              "      <td>0.0</td>\n",
              "      <td>0.0</td>\n",
              "      <td>...</td>\n",
              "      <td>0.0</td>\n",
              "      <td>0.0</td>\n",
              "      <td>0.0</td>\n",
              "      <td>0.0</td>\n",
              "      <td>0.0</td>\n",
              "      <td>0.0</td>\n",
              "      <td>0.0</td>\n",
              "      <td>0.0</td>\n",
              "      <td>0.0</td>\n",
              "      <td>0.0</td>\n",
              "    </tr>\n",
              "    <tr>\n",
              "      <th>2</th>\n",
              "      <td>0.0</td>\n",
              "      <td>0.0</td>\n",
              "      <td>0.0</td>\n",
              "      <td>0.0</td>\n",
              "      <td>0.0</td>\n",
              "      <td>0.0</td>\n",
              "      <td>0.0</td>\n",
              "      <td>0.0</td>\n",
              "      <td>0.0</td>\n",
              "      <td>0.0</td>\n",
              "      <td>...</td>\n",
              "      <td>0.0</td>\n",
              "      <td>0.0</td>\n",
              "      <td>0.0</td>\n",
              "      <td>0.0</td>\n",
              "      <td>0.0</td>\n",
              "      <td>0.0</td>\n",
              "      <td>0.0</td>\n",
              "      <td>0.0</td>\n",
              "      <td>0.0</td>\n",
              "      <td>0.0</td>\n",
              "    </tr>\n",
              "    <tr>\n",
              "      <th>3</th>\n",
              "      <td>0.0</td>\n",
              "      <td>0.0</td>\n",
              "      <td>0.0</td>\n",
              "      <td>0.0</td>\n",
              "      <td>0.0</td>\n",
              "      <td>0.0</td>\n",
              "      <td>0.0</td>\n",
              "      <td>0.0</td>\n",
              "      <td>0.0</td>\n",
              "      <td>0.0</td>\n",
              "      <td>...</td>\n",
              "      <td>0.0</td>\n",
              "      <td>0.0</td>\n",
              "      <td>0.0</td>\n",
              "      <td>0.0</td>\n",
              "      <td>0.0</td>\n",
              "      <td>0.0</td>\n",
              "      <td>0.0</td>\n",
              "      <td>0.0</td>\n",
              "      <td>0.0</td>\n",
              "      <td>0.0</td>\n",
              "    </tr>\n",
              "    <tr>\n",
              "      <th>4</th>\n",
              "      <td>0.0</td>\n",
              "      <td>0.0</td>\n",
              "      <td>0.0</td>\n",
              "      <td>0.0</td>\n",
              "      <td>0.0</td>\n",
              "      <td>0.0</td>\n",
              "      <td>0.0</td>\n",
              "      <td>0.0</td>\n",
              "      <td>0.0</td>\n",
              "      <td>0.0</td>\n",
              "      <td>...</td>\n",
              "      <td>0.0</td>\n",
              "      <td>0.0</td>\n",
              "      <td>0.0</td>\n",
              "      <td>0.0</td>\n",
              "      <td>0.0</td>\n",
              "      <td>0.0</td>\n",
              "      <td>0.0</td>\n",
              "      <td>0.0</td>\n",
              "      <td>0.0</td>\n",
              "      <td>0.0</td>\n",
              "    </tr>\n",
              "  </tbody>\n",
              "</table>\n",
              "<p>5 rows × 1918 columns</p>\n",
              "</div>\n",
              "    <div class=\"colab-df-buttons\">\n",
              "\n",
              "  <div class=\"colab-df-container\">\n",
              "    <button class=\"colab-df-convert\" onclick=\"convertToInteractive('df-ed474cbe-35e3-4bcf-9f24-819687ee1f80')\"\n",
              "            title=\"Convert this dataframe to an interactive table.\"\n",
              "            style=\"display:none;\">\n",
              "\n",
              "  <svg xmlns=\"http://www.w3.org/2000/svg\" height=\"24px\" viewBox=\"0 -960 960 960\">\n",
              "    <path d=\"M120-120v-720h720v720H120Zm60-500h600v-160H180v160Zm220 220h160v-160H400v160Zm0 220h160v-160H400v160ZM180-400h160v-160H180v160Zm440 0h160v-160H620v160ZM180-180h160v-160H180v160Zm440 0h160v-160H620v160Z\"/>\n",
              "  </svg>\n",
              "    </button>\n",
              "\n",
              "  <style>\n",
              "    .colab-df-container {\n",
              "      display:flex;\n",
              "      gap: 12px;\n",
              "    }\n",
              "\n",
              "    .colab-df-convert {\n",
              "      background-color: #E8F0FE;\n",
              "      border: none;\n",
              "      border-radius: 50%;\n",
              "      cursor: pointer;\n",
              "      display: none;\n",
              "      fill: #1967D2;\n",
              "      height: 32px;\n",
              "      padding: 0 0 0 0;\n",
              "      width: 32px;\n",
              "    }\n",
              "\n",
              "    .colab-df-convert:hover {\n",
              "      background-color: #E2EBFA;\n",
              "      box-shadow: 0px 1px 2px rgba(60, 64, 67, 0.3), 0px 1px 3px 1px rgba(60, 64, 67, 0.15);\n",
              "      fill: #174EA6;\n",
              "    }\n",
              "\n",
              "    .colab-df-buttons div {\n",
              "      margin-bottom: 4px;\n",
              "    }\n",
              "\n",
              "    [theme=dark] .colab-df-convert {\n",
              "      background-color: #3B4455;\n",
              "      fill: #D2E3FC;\n",
              "    }\n",
              "\n",
              "    [theme=dark] .colab-df-convert:hover {\n",
              "      background-color: #434B5C;\n",
              "      box-shadow: 0px 1px 3px 1px rgba(0, 0, 0, 0.15);\n",
              "      filter: drop-shadow(0px 1px 2px rgba(0, 0, 0, 0.3));\n",
              "      fill: #FFFFFF;\n",
              "    }\n",
              "  </style>\n",
              "\n",
              "    <script>\n",
              "      const buttonEl =\n",
              "        document.querySelector('#df-ed474cbe-35e3-4bcf-9f24-819687ee1f80 button.colab-df-convert');\n",
              "      buttonEl.style.display =\n",
              "        google.colab.kernel.accessAllowed ? 'block' : 'none';\n",
              "\n",
              "      async function convertToInteractive(key) {\n",
              "        const element = document.querySelector('#df-ed474cbe-35e3-4bcf-9f24-819687ee1f80');\n",
              "        const dataTable =\n",
              "          await google.colab.kernel.invokeFunction('convertToInteractive',\n",
              "                                                    [key], {});\n",
              "        if (!dataTable) return;\n",
              "\n",
              "        const docLinkHtml = 'Like what you see? Visit the ' +\n",
              "          '<a target=\"_blank\" href=https://colab.research.google.com/notebooks/data_table.ipynb>data table notebook</a>'\n",
              "          + ' to learn more about interactive tables.';\n",
              "        element.innerHTML = '';\n",
              "        dataTable['output_type'] = 'display_data';\n",
              "        await google.colab.output.renderOutput(dataTable, element);\n",
              "        const docLink = document.createElement('div');\n",
              "        docLink.innerHTML = docLinkHtml;\n",
              "        element.appendChild(docLink);\n",
              "      }\n",
              "    </script>\n",
              "  </div>\n",
              "\n",
              "\n",
              "<div id=\"df-6f659653-ed8c-4f07-943d-f97bfaa5f0e9\">\n",
              "  <button class=\"colab-df-quickchart\" onclick=\"quickchart('df-6f659653-ed8c-4f07-943d-f97bfaa5f0e9')\"\n",
              "            title=\"Suggest charts\"\n",
              "            style=\"display:none;\">\n",
              "\n",
              "<svg xmlns=\"http://www.w3.org/2000/svg\" height=\"24px\"viewBox=\"0 0 24 24\"\n",
              "     width=\"24px\">\n",
              "    <g>\n",
              "        <path d=\"M19 3H5c-1.1 0-2 .9-2 2v14c0 1.1.9 2 2 2h14c1.1 0 2-.9 2-2V5c0-1.1-.9-2-2-2zM9 17H7v-7h2v7zm4 0h-2V7h2v10zm4 0h-2v-4h2v4z\"/>\n",
              "    </g>\n",
              "</svg>\n",
              "  </button>\n",
              "\n",
              "<style>\n",
              "  .colab-df-quickchart {\n",
              "      --bg-color: #E8F0FE;\n",
              "      --fill-color: #1967D2;\n",
              "      --hover-bg-color: #E2EBFA;\n",
              "      --hover-fill-color: #174EA6;\n",
              "      --disabled-fill-color: #AAA;\n",
              "      --disabled-bg-color: #DDD;\n",
              "  }\n",
              "\n",
              "  [theme=dark] .colab-df-quickchart {\n",
              "      --bg-color: #3B4455;\n",
              "      --fill-color: #D2E3FC;\n",
              "      --hover-bg-color: #434B5C;\n",
              "      --hover-fill-color: #FFFFFF;\n",
              "      --disabled-bg-color: #3B4455;\n",
              "      --disabled-fill-color: #666;\n",
              "  }\n",
              "\n",
              "  .colab-df-quickchart {\n",
              "    background-color: var(--bg-color);\n",
              "    border: none;\n",
              "    border-radius: 50%;\n",
              "    cursor: pointer;\n",
              "    display: none;\n",
              "    fill: var(--fill-color);\n",
              "    height: 32px;\n",
              "    padding: 0;\n",
              "    width: 32px;\n",
              "  }\n",
              "\n",
              "  .colab-df-quickchart:hover {\n",
              "    background-color: var(--hover-bg-color);\n",
              "    box-shadow: 0 1px 2px rgba(60, 64, 67, 0.3), 0 1px 3px 1px rgba(60, 64, 67, 0.15);\n",
              "    fill: var(--button-hover-fill-color);\n",
              "  }\n",
              "\n",
              "  .colab-df-quickchart-complete:disabled,\n",
              "  .colab-df-quickchart-complete:disabled:hover {\n",
              "    background-color: var(--disabled-bg-color);\n",
              "    fill: var(--disabled-fill-color);\n",
              "    box-shadow: none;\n",
              "  }\n",
              "\n",
              "  .colab-df-spinner {\n",
              "    border: 2px solid var(--fill-color);\n",
              "    border-color: transparent;\n",
              "    border-bottom-color: var(--fill-color);\n",
              "    animation:\n",
              "      spin 1s steps(1) infinite;\n",
              "  }\n",
              "\n",
              "  @keyframes spin {\n",
              "    0% {\n",
              "      border-color: transparent;\n",
              "      border-bottom-color: var(--fill-color);\n",
              "      border-left-color: var(--fill-color);\n",
              "    }\n",
              "    20% {\n",
              "      border-color: transparent;\n",
              "      border-left-color: var(--fill-color);\n",
              "      border-top-color: var(--fill-color);\n",
              "    }\n",
              "    30% {\n",
              "      border-color: transparent;\n",
              "      border-left-color: var(--fill-color);\n",
              "      border-top-color: var(--fill-color);\n",
              "      border-right-color: var(--fill-color);\n",
              "    }\n",
              "    40% {\n",
              "      border-color: transparent;\n",
              "      border-right-color: var(--fill-color);\n",
              "      border-top-color: var(--fill-color);\n",
              "    }\n",
              "    60% {\n",
              "      border-color: transparent;\n",
              "      border-right-color: var(--fill-color);\n",
              "    }\n",
              "    80% {\n",
              "      border-color: transparent;\n",
              "      border-right-color: var(--fill-color);\n",
              "      border-bottom-color: var(--fill-color);\n",
              "    }\n",
              "    90% {\n",
              "      border-color: transparent;\n",
              "      border-bottom-color: var(--fill-color);\n",
              "    }\n",
              "  }\n",
              "</style>\n",
              "\n",
              "  <script>\n",
              "    async function quickchart(key) {\n",
              "      const quickchartButtonEl =\n",
              "        document.querySelector('#' + key + ' button');\n",
              "      quickchartButtonEl.disabled = true;  // To prevent multiple clicks.\n",
              "      quickchartButtonEl.classList.add('colab-df-spinner');\n",
              "      try {\n",
              "        const charts = await google.colab.kernel.invokeFunction(\n",
              "            'suggestCharts', [key], {});\n",
              "      } catch (error) {\n",
              "        console.error('Error during call to suggestCharts:', error);\n",
              "      }\n",
              "      quickchartButtonEl.classList.remove('colab-df-spinner');\n",
              "      quickchartButtonEl.classList.add('colab-df-quickchart-complete');\n",
              "    }\n",
              "    (() => {\n",
              "      let quickchartButtonEl =\n",
              "        document.querySelector('#df-6f659653-ed8c-4f07-943d-f97bfaa5f0e9 button');\n",
              "      quickchartButtonEl.style.display =\n",
              "        google.colab.kernel.accessAllowed ? 'block' : 'none';\n",
              "    })();\n",
              "  </script>\n",
              "</div>\n",
              "    </div>\n",
              "  </div>\n"
            ]
          },
          "metadata": {},
          "execution_count": 12
        }
      ]
    },
    {
      "cell_type": "code",
      "source": [
        "from sklearn.model_selection import train_test_split\n",
        "from sklearn.svm import SVC\n",
        "from sklearn.ensemble import RandomForestClassifier\n",
        "from sklearn.pipeline import Pipeline\n",
        "from sklearn.metrics import accuracy_score, classification_report"
      ],
      "metadata": {
        "id": "KghM0dWf8nbK"
      },
      "execution_count": null,
      "outputs": []
    },
    {
      "cell_type": "code",
      "source": [
        "X_train, X_test, y_train, y_test = train_test_split(df['processed_text'], df['Sentiment'], test_size=0.2, random_state=42)"
      ],
      "metadata": {
        "id": "ociCoP8A8wqh"
      },
      "execution_count": null,
      "outputs": []
    },
    {
      "cell_type": "code",
      "source": [
        "text_classifier_pipeline = Pipeline([\n",
        "    ('tfidf', TfidfVectorizer(max_features=5000)),\n",
        "    ('classifier', SVC(kernel='linear'))\n",
        "])"
      ],
      "metadata": {
        "id": "vK0mrtok9KaF"
      },
      "execution_count": null,
      "outputs": []
    },
    {
      "cell_type": "code",
      "source": [
        "text_classifier_pipeline.fit(X_train, y_train)\n",
        "\n",
        "predictions = text_classifier_pipeline.predict(X_test)\n",
        "\n",
        "accuracy = accuracy_score(y_test, predictions)\n",
        "classification_report_str = classification_report(y_test, predictions)\n",
        "\n",
        "print(f\"Accuracy: {accuracy:.2f}\")\n",
        "print(\"Classification Report:\\n\", classification_report_str)"
      ],
      "metadata": {
        "id": "PuZiAlen9rsa",
        "colab": {
          "base_uri": "https://localhost:8080/"
        },
        "outputId": "3910c765-8f1d-436d-b0b8-20845c37d884"
      },
      "execution_count": null,
      "outputs": [
        {
          "output_type": "stream",
          "name": "stdout",
          "text": [
            "Accuracy: 0.16\n",
            "Classification Report:\n",
            "                         precision    recall  f1-score   support\n",
            "\n",
            "         Acceptance          0.00      0.00      0.00         2\n",
            "      Acceptance             0.00      0.00      0.00         0\n",
            "           Admiration        0.00      0.00      0.00         1\n",
            "        Admiration           0.00      0.00      0.00         1\n",
            "         Affection           0.00      0.00      0.00         1\n",
            "      Ambivalence            1.00      1.00      1.00         1\n",
            "         Anger               0.00      0.00      0.00         1\n",
            "        Anticipation         0.00      0.00      0.00         1\n",
            "        Arousal              0.00      0.00      0.00         3\n",
            "                  Awe        0.00      0.00      0.00         1\n",
            "         Awe                 0.00      0.00      0.00         1\n",
            "                  Bad        0.00      0.00      0.00         1\n",
            "             Betrayal        0.00      0.00      0.00         2\n",
            "        Betrayal             0.00      0.00      0.00         1\n",
            "         Bitter              0.00      0.00      0.00         1\n",
            "           Bitterness        1.00      1.00      1.00         1\n",
            "          Bittersweet        0.00      0.00      0.00         1\n",
            "              Boredom        0.00      0.00      0.00         1\n",
            "         Calmness            0.00      0.00      0.00         1\n",
            "          Captivation        0.00      0.00      0.00         1\n",
            "     Celestial Wonder        0.00      0.00      0.00         1\n",
            "             Colorful        0.00      0.00      0.00         1\n",
            "      Confusion              0.00      0.00      0.00         3\n",
            "           Connection        0.00      0.00      0.00         1\n",
            "        Contemplation        0.00      0.00      0.00         1\n",
            "          Contentment        0.00      0.00      0.00         3\n",
            "        Contentment          0.00      0.00      0.00         1\n",
            "         Coziness            0.00      0.00      0.00         1\n",
            "         Creativity          0.00      0.00      0.00         1\n",
            "            Curiosity        0.00      0.00      0.00         2\n",
            "          Curiosity          0.00      0.00      0.00         1\n",
            "      Curiosity              0.00      0.00      0.00         2\n",
            "           Desolation        0.00      0.00      0.00         1\n",
            "              Despair        0.00      0.00      0.00         0\n",
            "           Devastated        0.00      0.00      0.00         2\n",
            "              Disgust        0.00      0.00      0.00         1\n",
            "         Disgust             0.00      0.00      0.00         2\n",
            "      Disgust                0.00      0.00      0.00         0\n",
            "        Elation              1.00      0.67      0.80         3\n",
            "             Elegance        0.00      0.00      0.00         1\n",
            "          Embarrassed        0.00      0.00      0.00         1\n",
            "       EmotionalStorm        0.00      0.00      0.00         1\n",
            "        Empowerment          0.00      0.00      0.00         1\n",
            "         Enjoyment           0.00      0.00      0.00         2\n",
            "           Enthusiasm        0.00      0.00      0.00         1\n",
            "              Envious        0.00      0.00      0.00         2\n",
            "  Envisioning History        0.00      0.00      0.00         1\n",
            "         Euphoria            0.00      0.00      0.00         1\n",
            "           Excitement        0.00      0.00      0.00         3\n",
            "         Excitement          0.00      0.00      0.00         3\n",
            "        Excitement           0.00      0.00      0.00         1\n",
            "         Fear                0.00      0.00      0.00         1\n",
            "              Fearful        0.00      0.00      0.00         1\n",
            "           Frustrated        0.00      0.00      0.00         1\n",
            "          Frustration        0.00      0.00      0.00         3\n",
            "         Fulfillment         0.00      0.00      0.00         2\n",
            "             Grateful        1.00      1.00      1.00         1\n",
            "      Grief                  0.00      0.00      0.00         1\n",
            "                Happy        0.00      0.00      0.00         6\n",
            "                 Hate        1.00      0.50      0.67         2\n",
            "           Heartbreak        0.00      0.00      0.00         2\n",
            "              Hopeful        1.00      1.00      1.00         1\n",
            "        InnerJourney         0.00      0.00      0.00         1\n",
            "        Inspiration          0.00      0.00      0.00         1\n",
            "             Inspired        1.00      1.00      1.00         1\n",
            "            Isolation        0.00      0.00      0.00         1\n",
            "          Jealousy           0.00      0.00      0.00         1\n",
            "                  Joy        0.21      0.88      0.34         8\n",
            "         Joy                 0.00      0.00      0.00         1\n",
            "        JoyfulReunion        0.00      0.00      0.00         1\n",
            "         Kind                0.00      0.00      0.00         1\n",
            "           Loneliness        0.33      1.00      0.50         1\n",
            "      Loneliness             0.00      0.00      0.00         1\n",
            "             LostLove        0.00      0.00      0.00         1\n",
            "      Melancholy             0.00      0.00      0.00         2\n",
            "       Miscalculation        0.00      0.00      0.00         1\n",
            "              Neutral        0.00      0.00      0.00         1\n",
            "        Nostalgia            0.00      0.00      0.00         1\n",
            "      Nostalgia              0.00      0.00      0.00         1\n",
            "      Numbness               1.00      1.00      1.00         1\n",
            "          Overwhelmed        0.00      0.00      0.00         1\n",
            "              Playful        1.00      0.50      0.67         2\n",
            "            Positive         0.08      0.44      0.14         9\n",
            "                Proud        1.00      1.00      1.00         1\n",
            "        Reflection           0.00      0.00      0.00         1\n",
            "       Regret                0.00      0.00      0.00         1\n",
            "           Resilience        0.00      0.00      0.00         1\n",
            "            Reverence        0.00      0.00      0.00         1\n",
            "        Reverence            0.00      0.00      0.00         0\n",
            "                  Sad        0.00      0.00      0.00         0\n",
            "         Sadness             0.00      0.00      0.00         2\n",
            "        Satisfaction         0.00      0.00      0.00         1\n",
            "             Serenity        0.00      0.00      0.00         2\n",
            "        Serenity             0.00      0.00      0.00         0\n",
            "      Serenity               0.00      0.00      0.00         2\n",
            "             Solitude        0.00      0.00      0.00         1\n",
            "          Sorrow             0.00      0.00      0.00         1\n",
            "         Spark               0.00      0.00      0.00         1\n",
            "         Surprise            0.00      0.00      0.00         1\n",
            "        Thrill               0.00      0.00      0.00         1\n",
            "             Vibrancy        0.00      0.00      0.00         1\n",
            " Whispers of the Past        0.00      0.00      0.00         1\n",
            "                 Zest        0.00      0.00      0.00         1\n",
            "\n",
            "              accuracy                           0.16       147\n",
            "             macro avg       0.10      0.11      0.10       147\n",
            "          weighted avg       0.11      0.16      0.11       147\n",
            "\n"
          ]
        },
        {
          "output_type": "stream",
          "name": "stderr",
          "text": [
            "/usr/local/lib/python3.10/dist-packages/sklearn/metrics/_classification.py:1344: UndefinedMetricWarning: Precision and F-score are ill-defined and being set to 0.0 in labels with no predicted samples. Use `zero_division` parameter to control this behavior.\n",
            "  _warn_prf(average, modifier, msg_start, len(result))\n",
            "/usr/local/lib/python3.10/dist-packages/sklearn/metrics/_classification.py:1344: UndefinedMetricWarning: Recall and F-score are ill-defined and being set to 0.0 in labels with no true samples. Use `zero_division` parameter to control this behavior.\n",
            "  _warn_prf(average, modifier, msg_start, len(result))\n",
            "/usr/local/lib/python3.10/dist-packages/sklearn/metrics/_classification.py:1344: UndefinedMetricWarning: Precision and F-score are ill-defined and being set to 0.0 in labels with no predicted samples. Use `zero_division` parameter to control this behavior.\n",
            "  _warn_prf(average, modifier, msg_start, len(result))\n",
            "/usr/local/lib/python3.10/dist-packages/sklearn/metrics/_classification.py:1344: UndefinedMetricWarning: Recall and F-score are ill-defined and being set to 0.0 in labels with no true samples. Use `zero_division` parameter to control this behavior.\n",
            "  _warn_prf(average, modifier, msg_start, len(result))\n",
            "/usr/local/lib/python3.10/dist-packages/sklearn/metrics/_classification.py:1344: UndefinedMetricWarning: Precision and F-score are ill-defined and being set to 0.0 in labels with no predicted samples. Use `zero_division` parameter to control this behavior.\n",
            "  _warn_prf(average, modifier, msg_start, len(result))\n",
            "/usr/local/lib/python3.10/dist-packages/sklearn/metrics/_classification.py:1344: UndefinedMetricWarning: Recall and F-score are ill-defined and being set to 0.0 in labels with no true samples. Use `zero_division` parameter to control this behavior.\n",
            "  _warn_prf(average, modifier, msg_start, len(result))\n"
          ]
        }
      ]
    },
    {
      "cell_type": "code",
      "source": [
        "text_classifier_pipeline_rf = Pipeline([\n",
        "    ('tfidf', TfidfVectorizer(max_features=5000)),\n",
        "    ('classifier', RandomForestClassifier(n_estimators=100, random_state=42))\n",
        "])"
      ],
      "metadata": {
        "id": "g7LAUMld922e"
      },
      "execution_count": null,
      "outputs": []
    },
    {
      "cell_type": "code",
      "source": [
        "text_classifier_pipeline_rf.fit(X_train, y_train)\n",
        "\n",
        "predictions = text_classifier_pipeline_rf.predict(X_test)\n",
        "\n",
        "accuracy = accuracy_score(y_test, predictions)\n",
        "classification_report_str = classification_report(y_test, predictions)\n",
        "\n",
        "print(f\"Accuracy: {accuracy:.2f}\")\n",
        "print(\"Classification Report:\\n\", classification_report_str)"
      ],
      "metadata": {
        "colab": {
          "base_uri": "https://localhost:8080/"
        },
        "id": "IaAwjpQx996u",
        "outputId": "5b12d860-35be-4780-beb9-b0e672e9f1f9"
      },
      "execution_count": null,
      "outputs": [
        {
          "output_type": "stream",
          "name": "stdout",
          "text": [
            "Accuracy: 0.29\n",
            "Classification Report:\n",
            "                         precision    recall  f1-score   support\n",
            "\n",
            "         Acceptance          0.00      0.00      0.00         2\n",
            "      Acceptance             0.00      0.00      0.00         0\n",
            "           Admiration        0.00      0.00      0.00         1\n",
            "         Admiration          0.00      0.00      0.00         0\n",
            "        Admiration           0.00      0.00      0.00         1\n",
            "         Affection           0.00      0.00      0.00         1\n",
            "      Ambivalence            1.00      1.00      1.00         1\n",
            "         Anger               0.00      0.00      0.00         1\n",
            "         Anticipation        0.00      0.00      0.00         0\n",
            "        Anticipation         0.00      0.00      0.00         1\n",
            "        Arousal              1.00      0.33      0.50         3\n",
            "        ArtisticBurst        0.00      0.00      0.00         0\n",
            "                  Awe        0.00      0.00      0.00         1\n",
            "         Awe                 0.00      0.00      0.00         1\n",
            "        Awe                  0.00      0.00      0.00         0\n",
            "                  Bad        1.00      1.00      1.00         1\n",
            "             Betrayal        0.00      0.00      0.00         2\n",
            "        Betrayal             0.00      0.00      0.00         1\n",
            "         Bitter              1.00      1.00      1.00         1\n",
            "           Bitterness        1.00      1.00      1.00         1\n",
            "          Bittersweet        0.00      0.00      0.00         1\n",
            "              Boredom        0.00      0.00      0.00         1\n",
            "         Calmness            0.50      1.00      0.67         1\n",
            "          Captivation        0.00      0.00      0.00         1\n",
            "     Celestial Wonder        0.00      0.00      0.00         1\n",
            "             Colorful        0.00      0.00      0.00         1\n",
            "      Confusion              1.00      0.67      0.80         3\n",
            "           Connection        0.00      0.00      0.00         1\n",
            "        Contemplation        0.00      0.00      0.00         1\n",
            "          Contentment        0.00      0.00      0.00         3\n",
            "        Contentment          1.00      1.00      1.00         1\n",
            "         Coziness            1.00      1.00      1.00         1\n",
            "         Creativity          0.00      0.00      0.00         1\n",
            "            Curiosity        0.00      0.00      0.00         2\n",
            "           Curiosity         0.00      0.00      0.00         0\n",
            "          Curiosity          0.00      0.00      0.00         1\n",
            "      Curiosity              1.00      1.00      1.00         2\n",
            "           Desolation        0.25      1.00      0.40         1\n",
            "      Despair                0.00      0.00      0.00         0\n",
            "           Devastated        0.00      0.00      0.00         2\n",
            "              Disgust        0.00      0.00      0.00         1\n",
            "         Disgust             0.00      0.00      0.00         2\n",
            "      Disgust                0.00      0.00      0.00         0\n",
            "        Elation              1.00      1.00      1.00         3\n",
            "             Elegance        0.00      0.00      0.00         1\n",
            "          Embarrassed        1.00      1.00      1.00         1\n",
            "       EmotionalStorm        0.00      0.00      0.00         1\n",
            "        Empowerment          0.00      0.00      0.00         1\n",
            "        Enchantment          0.00      0.00      0.00         0\n",
            "         Enjoyment           0.00      0.00      0.00         2\n",
            "           Enthusiasm        0.00      0.00      0.00         1\n",
            "        Enthusiasm           0.00      0.00      0.00         0\n",
            "              Envious        0.00      0.00      0.00         2\n",
            "  Envisioning History        0.00      0.00      0.00         1\n",
            "           Euphoria          0.00      0.00      0.00         0\n",
            "         Euphoria            0.00      0.00      0.00         1\n",
            "           Excitement        0.00      0.00      0.00         3\n",
            "         Excitement          0.00      0.00      0.00         3\n",
            "        Excitement           0.00      0.00      0.00         1\n",
            "           Exhaustion        0.00      0.00      0.00         0\n",
            "         Fear                0.00      0.00      0.00         1\n",
            "              Fearful        0.50      1.00      0.67         1\n",
            "           Frustrated        0.00      0.00      0.00         1\n",
            "          Frustration        0.00      0.00      0.00         3\n",
            "      Frustration            0.00      0.00      0.00         0\n",
            "         Fulfillment         0.00      0.00      0.00         2\n",
            "        Fulfillment          0.00      0.00      0.00         0\n",
            "             Grateful        0.50      1.00      0.67         1\n",
            "        Gratitude            0.00      0.00      0.00         0\n",
            "      Grief                  1.00      1.00      1.00         1\n",
            "            Happiness        0.00      0.00      0.00         0\n",
            "                Happy        0.00      0.00      0.00         6\n",
            "        Harmony              0.00      0.00      0.00         0\n",
            "                 Hate        1.00      1.00      1.00         2\n",
            "           Heartbreak        0.00      0.00      0.00         2\n",
            "              Hopeful        1.00      1.00      1.00         1\n",
            "        InnerJourney         0.00      0.00      0.00         1\n",
            "        Inspiration          0.00      0.00      0.00         1\n",
            "             Inspired        0.33      1.00      0.50         1\n",
            "            Isolation        0.00      0.00      0.00         1\n",
            "          Jealousy           0.00      0.00      0.00         1\n",
            "      Jealousy               0.00      0.00      0.00         0\n",
            "                  Joy        0.29      0.50      0.36         8\n",
            "         Joy                 0.00      0.00      0.00         1\n",
            "        JoyfulReunion        0.00      0.00      0.00         1\n",
            "         Kind                0.00      0.00      0.00         1\n",
            "           Loneliness        0.50      1.00      0.67         1\n",
            "      Loneliness             0.00      0.00      0.00         1\n",
            "             LostLove        0.00      0.00      0.00         1\n",
            "      Melancholy             0.00      0.00      0.00         2\n",
            "       Miscalculation        0.00      0.00      0.00         1\n",
            "              Neutral        0.00      0.00      0.00         1\n",
            "        Nostalgia            0.00      0.00      0.00         1\n",
            "      Nostalgia              1.00      1.00      1.00         1\n",
            "      Numbness               1.00      1.00      1.00         1\n",
            "          Overwhelmed        0.00      0.00      0.00         1\n",
            "              Playful        1.00      0.50      0.67         2\n",
            "            Positive         0.19      1.00      0.32         9\n",
            "           Positivity        0.00      0.00      0.00         0\n",
            "                Proud        1.00      1.00      1.00         1\n",
            "        Reflection           0.00      0.00      0.00         1\n",
            "        Regret               0.00      0.00      0.00         0\n",
            "       Regret                0.00      0.00      0.00         1\n",
            "           Resilience        0.00      0.00      0.00         1\n",
            "            Reverence        0.00      0.00      0.00         1\n",
            "        Reverence            0.00      0.00      0.00         0\n",
            "                  Sad        0.00      0.00      0.00         0\n",
            "         Sadness             0.00      0.00      0.00         2\n",
            "        Satisfaction         0.00      0.00      0.00         1\n",
            "             Serenity        0.00      0.00      0.00         2\n",
            "        Serenity             0.00      0.00      0.00         0\n",
            "      Serenity               1.00      0.50      0.67         2\n",
            "             Solitude        0.00      0.00      0.00         1\n",
            "          Sorrow             0.00      0.00      0.00         1\n",
            "         Spark               0.00      0.00      0.00         1\n",
            "         Surprise            0.00      0.00      0.00         1\n",
            "               Thrill        0.00      0.00      0.00         0\n",
            "        Thrill               0.00      0.00      0.00         1\n",
            "             Vibrancy        0.00      0.00      0.00         1\n",
            "        Whimsy               0.00      0.00      0.00         0\n",
            " Whispers of the Past        0.00      0.00      0.00         1\n",
            "                 Zest        0.00      0.00      0.00         1\n",
            "\n",
            "              accuracy                           0.29       147\n",
            "             macro avg       0.18      0.20      0.18       147\n",
            "          weighted avg       0.24      0.29      0.24       147\n",
            "\n"
          ]
        },
        {
          "output_type": "stream",
          "name": "stderr",
          "text": [
            "/usr/local/lib/python3.10/dist-packages/sklearn/metrics/_classification.py:1344: UndefinedMetricWarning: Precision and F-score are ill-defined and being set to 0.0 in labels with no predicted samples. Use `zero_division` parameter to control this behavior.\n",
            "  _warn_prf(average, modifier, msg_start, len(result))\n",
            "/usr/local/lib/python3.10/dist-packages/sklearn/metrics/_classification.py:1344: UndefinedMetricWarning: Recall and F-score are ill-defined and being set to 0.0 in labels with no true samples. Use `zero_division` parameter to control this behavior.\n",
            "  _warn_prf(average, modifier, msg_start, len(result))\n",
            "/usr/local/lib/python3.10/dist-packages/sklearn/metrics/_classification.py:1344: UndefinedMetricWarning: Precision and F-score are ill-defined and being set to 0.0 in labels with no predicted samples. Use `zero_division` parameter to control this behavior.\n",
            "  _warn_prf(average, modifier, msg_start, len(result))\n",
            "/usr/local/lib/python3.10/dist-packages/sklearn/metrics/_classification.py:1344: UndefinedMetricWarning: Recall and F-score are ill-defined and being set to 0.0 in labels with no true samples. Use `zero_division` parameter to control this behavior.\n",
            "  _warn_prf(average, modifier, msg_start, len(result))\n",
            "/usr/local/lib/python3.10/dist-packages/sklearn/metrics/_classification.py:1344: UndefinedMetricWarning: Precision and F-score are ill-defined and being set to 0.0 in labels with no predicted samples. Use `zero_division` parameter to control this behavior.\n",
            "  _warn_prf(average, modifier, msg_start, len(result))\n",
            "/usr/local/lib/python3.10/dist-packages/sklearn/metrics/_classification.py:1344: UndefinedMetricWarning: Recall and F-score are ill-defined and being set to 0.0 in labels with no true samples. Use `zero_division` parameter to control this behavior.\n",
            "  _warn_prf(average, modifier, msg_start, len(result))\n"
          ]
        }
      ]
    },
    {
      "cell_type": "code",
      "source": [
        "df['Sentiment'].value_counts().nlargest(20).plot(kind='bar')\n",
        "plt.title('Sentiment berdasarkan Text')\n",
        "plt.xlabel('Sentiment')\n",
        "plt.ylabel('Count')\n",
        "plt.show()"
      ],
      "metadata": {
        "colab": {
          "base_uri": "https://localhost:8080/",
          "height": 560
        },
        "id": "WDc0YfGdAUXa",
        "outputId": "0a0ea630-f7ef-48c9-d8ce-9896db6b8a4e"
      },
      "execution_count": null,
      "outputs": [
        {
          "output_type": "display_data",
          "data": {
            "text/plain": [
              "<Figure size 640x480 with 1 Axes>"
            ],
            "image/png": "[encoded data removed]"
          },
          "metadata": {}
        }
      ]
    },
    {
      "cell_type": "code",
      "source": [
        "df['Sentiment'].value_counts()"
      ],
      "metadata": {
        "colab": {
          "base_uri": "https://localhost:8080/"
        },
        "id": "XfGJ_uGtueyl",
        "outputId": "014987df-fc9c-482b-e551-cb05f6907114"
      },
      "execution_count": null,
      "outputs": [
        {
          "output_type": "execute_result",
          "data": {
            "text/plain": [
              " Positive           44\n",
              " Joy                42\n",
              " Excitement         32\n",
              " Neutral            14\n",
              " Contentment        14\n",
              "                    ..\n",
              " Adrenaline          1\n",
              " Harmony             1\n",
              " ArtisticBurst       1\n",
              " Radiance            1\n",
              " Elegance            1\n",
              "Name: Sentiment, Length: 279, dtype: int64"
            ]
          },
          "metadata": {},
          "execution_count": 35
        }
      ]
    },
    {
      "cell_type": "code",
      "source": [
        "df['Platform'].value_counts().plot(kind='pie', autopct='%1.1f%%')\n",
        "plt.title('Grafik Platform')\n",
        "plt.xlabel('Platform')\n",
        "plt.legend()\n",
        "plt.show()"
      ],
      "metadata": {
        "colab": {
          "base_uri": "https://localhost:8080/",
          "height": 448
        },
        "id": "P1vIh2QFAdtJ",
        "outputId": "e05d9268-033c-42db-dd97-823e38e5ea51"
      },
      "execution_count": null,
      "outputs": [
        {
          "output_type": "display_data",
          "data": {
            "text/plain": [
              "<Figure size 640x480 with 1 Axes>"
            ],
            "image/png": "[encoded data removed]"
          },
          "metadata": {}
        }
      ]
    },
    {
      "cell_type": "code",
      "source": [
        "df['Platform'].value_counts()"
      ],
      "metadata": {
        "colab": {
          "base_uri": "https://localhost:8080/"
        },
        "id": "ulh1SluHuiLa",
        "outputId": "70e568f7-518e-4d47-9211-1a6e3a021fd4"
      },
      "execution_count": null,
      "outputs": [
        {
          "output_type": "execute_result",
          "data": {
            "text/plain": [
              " Instagram     258\n",
              " Facebook      231\n",
              " Twitter       128\n",
              " Twitter       115\n",
              "Name: Platform, dtype: int64"
            ]
          },
          "metadata": {},
          "execution_count": 36
        }
      ]
    },
    {
      "cell_type": "code",
      "source": [
        "df['Country'].value_counts().nlargest(20).plot(kind='bar')\n",
        "plt.title('Based on Country')\n",
        "plt.xlabel('Country')\n",
        "plt.ylabel('Count')\n",
        "plt.show()"
      ],
      "metadata": {
        "id": "0U7hcPXaAm4s",
        "outputId": "6d4fc321-7640-41ea-fead-a1d331a27b47",
        "colab": {
          "base_uri": "https://localhost:8080/",
          "height": 550
        }
      },
      "execution_count": null,
      "outputs": [
        {
          "output_type": "display_data",
          "data": {
            "text/plain": [
              "<Figure size 640x480 with 1 Axes>"
            ],
            "image/png": "[encoded data removed]"
          },
          "metadata": {}
        }
      ]
    },
    {
      "cell_type": "code",
      "source": [
        "df['Country'].value_counts()"
      ],
      "metadata": {
        "colab": {
          "base_uri": "https://localhost:8080/"
        },
        "id": "IQjCAPQLunop",
        "outputId": "8b8c5bab-114b-4ebc-ef5e-3c7c94286d6b"
      },
      "execution_count": null,
      "outputs": [
        {
          "output_type": "execute_result",
          "data": {
            "text/plain": [
              " USA               59\n",
              " USA               55\n",
              " UK                49\n",
              " Canada            44\n",
              " Australia         41\n",
              "                   ..\n",
              " Netherlands        1\n",
              " USA                1\n",
              " Germany            1\n",
              " France             1\n",
              " USA                1\n",
              "Name: Country, Length: 115, dtype: int64"
            ]
          },
          "metadata": {},
          "execution_count": 37
        }
      ]
    }
  ]
}